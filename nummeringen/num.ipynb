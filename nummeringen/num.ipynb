{
 "cells": [
  {
   "cell_type": "code",
   "execution_count": 41,
   "metadata": {
    "scrolled": false
   },
   "outputs": [
    {
     "name": "stdout",
     "output_type": "stream",
     "text": [
      "[[2742001, 2742002, 2742003, 2742004, 2742005], [2742006, 2742007, 2742008, 2742009, 2742010], [2742011, 2742012, 2742013, 2742014, 2742015], [2742016, 2742017, 2742018, 2742019, 2742020]]\n"
     ]
    }
   ],
   "source": [
    "import pandas as pd\n",
    "\n",
    "\n",
    "\n",
    "lijst =[]\n",
    "for num in range(2742001,2842000):\n",
    "    lijst.append(num)\n",
    "\n",
    "    \n",
    "print([lijst[0:5],lijst[5:10],lijst[10:15],lijst[15:20],lijst[20:25]])\n",
    "print(wikkel)\n"
   ]
  },
  {
   "cell_type": "code",
   "execution_count": 44,
   "metadata": {},
   "outputs": [
    {
     "name": "stdout",
     "output_type": "stream",
     "text": [
      "['.;stans.pdf', '.;stans.pdf', '.;stans.pdf', '.;stans.pdf', '.;stans.pdf', '.;stans.pdf', '.;stans.pdf', '.;stans.pdf', '.;stans.pdf']\n"
     ]
    }
   ],
   "source": [
    "aantal_tussen = 9\n",
    "\n",
    "wikkel =[]\n",
    "for w in range(aantal_tussen):\n",
    "    a ='.;stans.pdf'\n",
    "    wikkel.append(a)\n",
    "    \n",
    "print(wikkel)"
   ]
  },
  {
   "cell_type": "code",
   "execution_count": null,
   "metadata": {},
   "outputs": [],
   "source": []
  }
 ],
 "metadata": {
  "kernelspec": {
   "display_name": "Python 3",
   "language": "python",
   "name": "python3"
  },
  "language_info": {
   "codemirror_mode": {
    "name": "ipython",
    "version": 3
   },
   "file_extension": ".py",
   "mimetype": "text/x-python",
   "name": "python",
   "nbconvert_exporter": "python",
   "pygments_lexer": "ipython3",
   "version": "3.6.6"
  }
 },
 "nbformat": 4,
 "nbformat_minor": 2
}
