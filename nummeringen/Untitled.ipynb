{
 "cells": [
  {
   "cell_type": "code",
   "execution_count": 29,
   "metadata": {
    "scrolled": false
   },
   "outputs": [],
   "source": [
    "lijst =[]\n",
    "for num in range(2742001,2842000):\n",
    "    lijst.append(num)\n",
    "\n",
    "    \n",
    "a =lijst[0:10]\n",
    "# print(f'{a}',end=\"leeg.pdf\")\n",
    "for e in enumerate(a):\n",
    "    b = lijst.append(e)\n",
    "    b.to_csv(\"b.csv\")"
   ]
  },
  {
   "cell_type": "code",
   "execution_count": 21,
   "metadata": {},
   "outputs": [
    {
     "name": "stdout",
     "output_type": "stream",
     "text": [
      ".;stans.pdf\n",
      ".;stans.pdf\n",
      ".;stans.pdf\n",
      ".;stans.pdf\n",
      ".;stans.pdf\n",
      ".;stans.pdf\n",
      ".;stans.pdf\n",
      ".;stans.pdf\n",
      ".;stans.pdf\n"
     ]
    }
   ],
   "source": [
    "aantal_tussen = 9\n",
    "\n",
    "wikkel =[]\n",
    "for w in range(aantal_tussen):\n",
    "    print('.;stans.pdf')"
   ]
  },
  {
   "cell_type": "code",
   "execution_count": null,
   "metadata": {},
   "outputs": [],
   "source": []
  }
 ],
 "metadata": {
  "kernelspec": {
   "display_name": "Python 3",
   "language": "python",
   "name": "python3"
  },
  "language_info": {
   "codemirror_mode": {
    "name": "ipython",
    "version": 3
   },
   "file_extension": ".py",
   "mimetype": "text/x-python",
   "name": "python",
   "nbconvert_exporter": "python",
   "pygments_lexer": "ipython3",
   "version": "3.6.6"
  }
 },
 "nbformat": 4,
 "nbformat_minor": 2
}
